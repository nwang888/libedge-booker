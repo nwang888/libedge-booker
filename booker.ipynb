{
 "cells": [
  {
   "cell_type": "code",
   "execution_count": 4,
   "metadata": {},
   "outputs": [
    {
     "name": "stdout",
     "output_type": "stream",
     "text": [
      "Request failed. Status code: 403\n"
     ]
    }
   ],
   "source": [
    "import requests\n",
    "import json\n",
    "\n",
    "# Define the URL\n",
    "url = \"https://duke.libcal.com/ajax/space/book\"\n",
    "\n",
    "# Define the data\n",
    "data = {\n",
    "    \"session\": (None, \"39605291\"),\n",
    "    \"fname\": (None, \"N\"),\n",
    "    \"lname\": (None, \"W\"),\n",
    "    \"email\": (None, \"nw128@duke.edu\"),\n",
    "    \"q15103\": (None, \"Yes\"),\n",
    "    \"bookings\": (None, json.dumps([{\"id\":1,\"eid\":49578,\"seat_id\":0,\"gid\":12858,\"lid\":7266,\"start\":\"2023-11-11 16:00\",\"end\":\"2023-11-11 18:00\",\"checksum\":\"4bfc869986dff96b199aadf9ca713c17\"}])),\n",
    "    \"returnUrl\": (None, \"/reserve/edge\"),\n",
    "    \"pickupHolds\": (None, \"\"),\n",
    "    \"method\": (None, \"11\"),\n",
    "}\n",
    "\n",
    "# Send the POST request\n",
    "response = requests.post(url, files=data)\n",
    "\n",
    "# Check the response\n",
    "if response.status_code == 200:\n",
    "    print(\"Request was successful.\")\n",
    "    print(\"Response content:\", response.content) \n",
    "else:\n",
    "    print(\"Request failed. Status code:\", response.status_code)"
   ]
  }
 ],
 "metadata": {
  "kernelspec": {
   "display_name": ".venv",
   "language": "python",
   "name": "python3"
  },
  "language_info": {
   "codemirror_mode": {
    "name": "ipython",
    "version": 3
   },
   "file_extension": ".py",
   "mimetype": "text/x-python",
   "name": "python",
   "nbconvert_exporter": "python",
   "pygments_lexer": "ipython3",
   "version": "3.10.5"
  }
 },
 "nbformat": 4,
 "nbformat_minor": 2
}
